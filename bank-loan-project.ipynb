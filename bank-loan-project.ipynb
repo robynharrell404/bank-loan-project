{
 "cells": [
  {
   "cell_type": "code",
   "execution_count": 108,
   "metadata": {},
   "outputs": [],
   "source": [
    "import pandas as pd\n",
    "import numpy as np\n",
    "import seaborn as sn\n",
    "import matplotlib.pyplot as plt\n",
    "\n",
    "from sklearn.linear_model import LogisticRegression\n",
    "from sklearn.metrics import accuracy_score, precision_score, recall_score, confusion_matrix, roc_curve, roc_auc_score, classification_report, log_loss\n",
    "from sklearn.model_selection import train_test_split\n",
    "from sklearn.metrics import r2_score, mean_squared_error\n",
    "from sklearn.preprocessing import StandardScaler\n",
    "from sklearn.model_selection import KFold\n",
    "from sklearn.model_selection import GridSearchCV\n",
    "from sklearn.linear_model import Ridge\n",
    "\n",
    "import warnings\n",
    "warnings.filterwarnings(\"ignore\")"
   ]
  },
  {
   "cell_type": "code",
   "execution_count": 116,
   "metadata": {},
   "outputs": [],
   "source": [
    "df=pd.read_csv('bank-loan-project/loan.csv')"
   ]
  },
  {
   "cell_type": "code",
   "execution_count": 117,
   "metadata": {},
   "outputs": [
    {
     "data": {
      "text/html": [
       "<div>\n",
       "<style scoped>\n",
       "    .dataframe tbody tr th:only-of-type {\n",
       "        vertical-align: middle;\n",
       "    }\n",
       "\n",
       "    .dataframe tbody tr th {\n",
       "        vertical-align: top;\n",
       "    }\n",
       "\n",
       "    .dataframe thead th {\n",
       "        text-align: right;\n",
       "    }\n",
       "</style>\n",
       "<table border=\"1\" class=\"dataframe\">\n",
       "  <thead>\n",
       "    <tr style=\"text-align: right;\">\n",
       "      <th></th>\n",
       "      <th>count</th>\n",
       "      <th>mean</th>\n",
       "      <th>std</th>\n",
       "      <th>min</th>\n",
       "      <th>25%</th>\n",
       "      <th>50%</th>\n",
       "      <th>75%</th>\n",
       "      <th>max</th>\n",
       "    </tr>\n",
       "  </thead>\n",
       "  <tbody>\n",
       "    <tr>\n",
       "      <th>Interest.Rate</th>\n",
       "      <td>2497.0</td>\n",
       "      <td>13.067521</td>\n",
       "      <td>4.180074</td>\n",
       "      <td>5.42</td>\n",
       "      <td>10.16</td>\n",
       "      <td>13.11</td>\n",
       "      <td>15.8</td>\n",
       "      <td>24.89</td>\n",
       "    </tr>\n",
       "    <tr>\n",
       "      <th>FICO.Score</th>\n",
       "      <td>2499.0</td>\n",
       "      <td>705.870348</td>\n",
       "      <td>35.029051</td>\n",
       "      <td>640.00</td>\n",
       "      <td>680.00</td>\n",
       "      <td>700.00</td>\n",
       "      <td>725.0</td>\n",
       "      <td>830.00</td>\n",
       "    </tr>\n",
       "    <tr>\n",
       "      <th>Loan.Length</th>\n",
       "      <td>2500.0</td>\n",
       "      <td>41.260800</td>\n",
       "      <td>9.930893</td>\n",
       "      <td>36.00</td>\n",
       "      <td>36.00</td>\n",
       "      <td>36.00</td>\n",
       "      <td>36.0</td>\n",
       "      <td>60.00</td>\n",
       "    </tr>\n",
       "    <tr>\n",
       "      <th>Monthly.Income</th>\n",
       "      <td>2495.0</td>\n",
       "      <td>5690.259599</td>\n",
       "      <td>3964.704795</td>\n",
       "      <td>588.50</td>\n",
       "      <td>3500.00</td>\n",
       "      <td>5000.00</td>\n",
       "      <td>6800.0</td>\n",
       "      <td>102750.00</td>\n",
       "    </tr>\n",
       "    <tr>\n",
       "      <th>Loan.Amount</th>\n",
       "      <td>2500.0</td>\n",
       "      <td>12406.500000</td>\n",
       "      <td>7801.544872</td>\n",
       "      <td>1000.00</td>\n",
       "      <td>6000.00</td>\n",
       "      <td>10000.00</td>\n",
       "      <td>17000.0</td>\n",
       "      <td>35000.00</td>\n",
       "    </tr>\n",
       "  </tbody>\n",
       "</table>\n",
       "</div>"
      ],
      "text/plain": [
       "                 count          mean          std      min      25%       50%  \\\n",
       "Interest.Rate   2497.0     13.067521     4.180074     5.42    10.16     13.11   \n",
       "FICO.Score      2499.0    705.870348    35.029051   640.00   680.00    700.00   \n",
       "Loan.Length     2500.0     41.260800     9.930893    36.00    36.00     36.00   \n",
       "Monthly.Income  2495.0   5690.259599  3964.704795   588.50  3500.00   5000.00   \n",
       "Loan.Amount     2500.0  12406.500000  7801.544872  1000.00  6000.00  10000.00   \n",
       "\n",
       "                    75%        max  \n",
       "Interest.Rate      15.8      24.89  \n",
       "FICO.Score        725.0     830.00  \n",
       "Loan.Length        36.0      60.00  \n",
       "Monthly.Income   6800.0  102750.00  \n",
       "Loan.Amount     17000.0   35000.00  "
      ]
     },
     "execution_count": 117,
     "metadata": {},
     "output_type": "execute_result"
    }
   ],
   "source": [
    "df.describe().T"
   ]
  },
  {
   "cell_type": "code",
   "execution_count": 118,
   "metadata": {},
   "outputs": [],
   "source": [
    "#small number of missing values, decision made to eliminate these\n",
    "df.dropna(how='any', inplace=True) "
   ]
  },
  {
   "cell_type": "code",
   "execution_count": 122,
   "metadata": {},
   "outputs": [
    {
     "data": {
      "text/html": [
       "<div>\n",
       "<style scoped>\n",
       "    .dataframe tbody tr th:only-of-type {\n",
       "        vertical-align: middle;\n",
       "    }\n",
       "\n",
       "    .dataframe tbody tr th {\n",
       "        vertical-align: top;\n",
       "    }\n",
       "\n",
       "    .dataframe thead th {\n",
       "        text-align: right;\n",
       "    }\n",
       "</style>\n",
       "<table border=\"1\" class=\"dataframe\">\n",
       "  <thead>\n",
       "    <tr style=\"text-align: right;\">\n",
       "      <th></th>\n",
       "      <th>Interest.Rate</th>\n",
       "      <th>FICO.Score</th>\n",
       "      <th>Loan.Length</th>\n",
       "      <th>Monthly.Income</th>\n",
       "      <th>Loan.Amount</th>\n",
       "    </tr>\n",
       "  </thead>\n",
       "  <tbody>\n",
       "    <tr>\n",
       "      <th>Interest.Rate</th>\n",
       "      <td>1.000000</td>\n",
       "      <td>-0.708646</td>\n",
       "      <td>0.424041</td>\n",
       "      <td>0.013218</td>\n",
       "      <td>0.332411</td>\n",
       "    </tr>\n",
       "    <tr>\n",
       "      <th>FICO.Score</th>\n",
       "      <td>-0.708646</td>\n",
       "      <td>1.000000</td>\n",
       "      <td>0.012850</td>\n",
       "      <td>0.121372</td>\n",
       "      <td>0.083618</td>\n",
       "    </tr>\n",
       "    <tr>\n",
       "      <th>Loan.Length</th>\n",
       "      <td>0.424041</td>\n",
       "      <td>0.012850</td>\n",
       "      <td>1.000000</td>\n",
       "      <td>0.073693</td>\n",
       "      <td>0.412133</td>\n",
       "    </tr>\n",
       "    <tr>\n",
       "      <th>Monthly.Income</th>\n",
       "      <td>0.013218</td>\n",
       "      <td>0.121372</td>\n",
       "      <td>0.073693</td>\n",
       "      <td>1.000000</td>\n",
       "      <td>0.389300</td>\n",
       "    </tr>\n",
       "    <tr>\n",
       "      <th>Loan.Amount</th>\n",
       "      <td>0.332411</td>\n",
       "      <td>0.083618</td>\n",
       "      <td>0.412133</td>\n",
       "      <td>0.389300</td>\n",
       "      <td>1.000000</td>\n",
       "    </tr>\n",
       "  </tbody>\n",
       "</table>\n",
       "</div>"
      ],
      "text/plain": [
       "                Interest.Rate  FICO.Score  Loan.Length  Monthly.Income  \\\n",
       "Interest.Rate        1.000000   -0.708646     0.424041        0.013218   \n",
       "FICO.Score          -0.708646    1.000000     0.012850        0.121372   \n",
       "Loan.Length          0.424041    0.012850     1.000000        0.073693   \n",
       "Monthly.Income       0.013218    0.121372     0.073693        1.000000   \n",
       "Loan.Amount          0.332411    0.083618     0.412133        0.389300   \n",
       "\n",
       "                Loan.Amount  \n",
       "Interest.Rate      0.332411  \n",
       "FICO.Score         0.083618  \n",
       "Loan.Length        0.412133  \n",
       "Monthly.Income     0.389300  \n",
       "Loan.Amount        1.000000  "
      ]
     },
     "execution_count": 122,
     "metadata": {},
     "output_type": "execute_result"
    }
   ],
   "source": [
    "#assess data by reviewing correlations\n",
    "df.corr()\n",
    "#interest rate and FICO score have a strong negative correlation, which is expected\n",
    "#interest rate and loan lenth have a positive correlation, which is expected\n",
    "#interest rate and monthly income correlation is nearly 0, would expect this to be more in the positive direction\n",
    "#interest rate and loan amount have a positive correlation, which is expected"
   ]
  },
  {
   "cell_type": "code",
   "execution_count": 123,
   "metadata": {},
   "outputs": [],
   "source": [
    "#dichotomize interest rate as low (<= 9) vs > high (> 9)\n",
    "df['Interest.Rate.lt'] = np.where(df['Interest.Rate'] <= 9, 1, 0)"
   ]
  },
  {
   "cell_type": "code",
   "execution_count": 124,
   "metadata": {},
   "outputs": [
    {
     "data": {
      "text/html": [
       "<div>\n",
       "<style scoped>\n",
       "    .dataframe tbody tr th:only-of-type {\n",
       "        vertical-align: middle;\n",
       "    }\n",
       "\n",
       "    .dataframe tbody tr th {\n",
       "        vertical-align: top;\n",
       "    }\n",
       "\n",
       "    .dataframe thead th {\n",
       "        text-align: right;\n",
       "    }\n",
       "</style>\n",
       "<table border=\"1\" class=\"dataframe\">\n",
       "  <thead>\n",
       "    <tr style=\"text-align: right;\">\n",
       "      <th></th>\n",
       "      <th>count</th>\n",
       "      <th>mean</th>\n",
       "      <th>std</th>\n",
       "      <th>min</th>\n",
       "      <th>25%</th>\n",
       "      <th>50%</th>\n",
       "      <th>75%</th>\n",
       "      <th>max</th>\n",
       "    </tr>\n",
       "  </thead>\n",
       "  <tbody>\n",
       "    <tr>\n",
       "      <th>Interest.Rate</th>\n",
       "      <td>2492.0</td>\n",
       "      <td>13.073146</td>\n",
       "      <td>4.175694</td>\n",
       "      <td>5.42</td>\n",
       "      <td>10.16</td>\n",
       "      <td>13.11</td>\n",
       "      <td>15.8</td>\n",
       "      <td>24.89</td>\n",
       "    </tr>\n",
       "    <tr>\n",
       "      <th>FICO.Score</th>\n",
       "      <td>2492.0</td>\n",
       "      <td>705.850722</td>\n",
       "      <td>34.977750</td>\n",
       "      <td>640.00</td>\n",
       "      <td>680.00</td>\n",
       "      <td>700.00</td>\n",
       "      <td>725.0</td>\n",
       "      <td>830.00</td>\n",
       "    </tr>\n",
       "    <tr>\n",
       "      <th>Loan.Length</th>\n",
       "      <td>2492.0</td>\n",
       "      <td>41.277689</td>\n",
       "      <td>9.942344</td>\n",
       "      <td>36.00</td>\n",
       "      <td>36.00</td>\n",
       "      <td>36.00</td>\n",
       "      <td>36.0</td>\n",
       "      <td>60.00</td>\n",
       "    </tr>\n",
       "    <tr>\n",
       "      <th>Monthly.Income</th>\n",
       "      <td>2492.0</td>\n",
       "      <td>5691.391533</td>\n",
       "      <td>3966.859450</td>\n",
       "      <td>588.50</td>\n",
       "      <td>3500.00</td>\n",
       "      <td>5000.00</td>\n",
       "      <td>6800.0</td>\n",
       "      <td>102750.00</td>\n",
       "    </tr>\n",
       "    <tr>\n",
       "      <th>Loan.Amount</th>\n",
       "      <td>2492.0</td>\n",
       "      <td>12419.652889</td>\n",
       "      <td>7807.860296</td>\n",
       "      <td>1000.00</td>\n",
       "      <td>6000.00</td>\n",
       "      <td>10000.00</td>\n",
       "      <td>17000.0</td>\n",
       "      <td>35000.00</td>\n",
       "    </tr>\n",
       "    <tr>\n",
       "      <th>Interest.Rate.lt</th>\n",
       "      <td>2492.0</td>\n",
       "      <td>0.213884</td>\n",
       "      <td>0.410128</td>\n",
       "      <td>0.00</td>\n",
       "      <td>0.00</td>\n",
       "      <td>0.00</td>\n",
       "      <td>0.0</td>\n",
       "      <td>1.00</td>\n",
       "    </tr>\n",
       "  </tbody>\n",
       "</table>\n",
       "</div>"
      ],
      "text/plain": [
       "                   count          mean          std      min      25%  \\\n",
       "Interest.Rate     2492.0     13.073146     4.175694     5.42    10.16   \n",
       "FICO.Score        2492.0    705.850722    34.977750   640.00   680.00   \n",
       "Loan.Length       2492.0     41.277689     9.942344    36.00    36.00   \n",
       "Monthly.Income    2492.0   5691.391533  3966.859450   588.50  3500.00   \n",
       "Loan.Amount       2492.0  12419.652889  7807.860296  1000.00  6000.00   \n",
       "Interest.Rate.lt  2492.0      0.213884     0.410128     0.00     0.00   \n",
       "\n",
       "                       50%      75%        max  \n",
       "Interest.Rate        13.11     15.8      24.89  \n",
       "FICO.Score          700.00    725.0     830.00  \n",
       "Loan.Length          36.00     36.0      60.00  \n",
       "Monthly.Income     5000.00   6800.0  102750.00  \n",
       "Loan.Amount       10000.00  17000.0   35000.00  \n",
       "Interest.Rate.lt      0.00      0.0       1.00  "
      ]
     },
     "execution_count": 124,
     "metadata": {},
     "output_type": "execute_result"
    }
   ],
   "source": [
    "df.describe().T"
   ]
  },
  {
   "cell_type": "code",
   "execution_count": 134,
   "metadata": {},
   "outputs": [],
   "source": [
    "#include FICO score, loan length, monthly income and loan amount as continuous \n",
    "#predictors of low interest rate (<=9%)\n",
    "X = df.drop(columns=['Interest.Rate', 'Interest.Rate.lt'])\n",
    "y = df['Interest.Rate.lt']"
   ]
  },
  {
   "cell_type": "code",
   "execution_count": null,
   "metadata": {},
   "outputs": [],
   "source": [
    "#split and scale"
   ]
  },
  {
   "cell_type": "code",
   "execution_count": 135,
   "metadata": {},
   "outputs": [],
   "source": [
    "X_train, X_test, y_train, y_test = train_test_split(X, y, test_size=0.33, random_state=21)\n",
    "# If not scaling ...\n",
    "# Convergence Warning: The max_iter was reached which means the coef_ did not converge\n",
    "scalar = StandardScaler().fit(X_train)\n",
    "X_train = scalar.transform(X_train)\n",
    "X_test = scalar.transform(X_test)"
   ]
  },
  {
   "cell_type": "code",
   "execution_count": 136,
   "metadata": {},
   "outputs": [],
   "source": [
    "#Gridsearch to find the best model"
   ]
  },
  {
   "cell_type": "code",
   "execution_count": 137,
   "metadata": {},
   "outputs": [
    {
     "data": {
      "text/plain": [
       "GridSearchCV(cv=10, error_score='raise',\n",
       "       estimator=LogisticRegression(C=1.0, class_weight=None, dual=False, fit_intercept=True,\n",
       "          intercept_scaling=1, max_iter=100, multi_class='ovr', n_jobs=1,\n",
       "          penalty='l2', random_state=None, solver='liblinear', tol=0.0001,\n",
       "          verbose=0, warm_start=False),\n",
       "       fit_params=None, iid=True, n_jobs=5,\n",
       "       param_grid={'penalty': ['l2'], 'solver': ['newton-cg', 'lbfgs', 'liblinear', 'sag', 'saga'], 'fit_intercept': [True, False], 'C': array([1.00000e-03, 1.32571e-03, 1.75751e-03, 2.32995e-03, 3.08884e-03,\n",
       "       4.09492e-03, 5.42868e-03, 7.19686e-03, 9.54095e-03, 1.26486e-02,\n",
       "       1.67683e-02, 2.2230... 1.84207e+02, 2.44205e+02,\n",
       "       3.23746e+02, 4.29193e+02, 5.68987e+02, 7.54312e+02, 1.00000e+03])},\n",
       "       pre_dispatch='2*n_jobs', refit=True, return_train_score='warn',\n",
       "       scoring='neg_log_loss', verbose=0)"
      ]
     },
     "execution_count": 137,
     "metadata": {},
     "output_type": "execute_result"
    }
   ],
   "source": [
    "params = {\n",
    "          'penalty': ['l2'], \n",
    "          'solver': ['newton-cg', 'lbfgs', 'liblinear', 'sag', 'saga'],\n",
    "          'fit_intercept': [True, False],\n",
    "          'C': np.logspace(-3,3)\n",
    "         }\n",
    "gs = GridSearchCV(LogisticRegression(), param_grid=params, scoring='neg_log_loss', cv=10, n_jobs=5).fit(X_train, y_train)\n",
    "gs"
   ]
  },
  {
   "cell_type": "code",
   "execution_count": 138,
   "metadata": {},
   "outputs": [],
   "source": [
    "#Results"
   ]
  },
  {
   "cell_type": "code",
   "execution_count": 139,
   "metadata": {},
   "outputs": [
    {
     "data": {
      "text/plain": [
       "LogisticRegression(C=0.868511373751352, class_weight=None, dual=False,\n",
       "          fit_intercept=True, intercept_scaling=1, max_iter=100,\n",
       "          multi_class='ovr', n_jobs=1, penalty='l2', random_state=None,\n",
       "          solver='saga', tol=0.0001, verbose=0, warm_start=False)"
      ]
     },
     "execution_count": 139,
     "metadata": {},
     "output_type": "execute_result"
    }
   ],
   "source": [
    "gs.best_estimator_"
   ]
  },
  {
   "cell_type": "code",
   "execution_count": 140,
   "metadata": {},
   "outputs": [],
   "source": [
    "#Final Model"
   ]
  },
  {
   "cell_type": "code",
   "execution_count": 141,
   "metadata": {},
   "outputs": [
    {
     "data": {
      "text/plain": [
       "{'C': 0.868511373751352,\n",
       " 'fit_intercept': True,\n",
       " 'penalty': 'l2',\n",
       " 'solver': 'saga'}"
      ]
     },
     "execution_count": 141,
     "metadata": {},
     "output_type": "execute_result"
    }
   ],
   "source": [
    "gs.best_params_"
   ]
  },
  {
   "cell_type": "code",
   "execution_count": 127,
   "metadata": {},
   "outputs": [],
   "source": [
    "#using best parameters from GS on training data\n",
    "model = LogisticRegression(**gs.best_params_).fit(X_train, y_train)"
   ]
  },
  {
   "cell_type": "code",
   "execution_count": 142,
   "metadata": {},
   "outputs": [],
   "source": [
    "y_hat = model.predict(X_test)\n",
    "p_hat = model.predict_proba(X_test)[:,1]"
   ]
  },
  {
   "cell_type": "code",
   "execution_count": 143,
   "metadata": {},
   "outputs": [
    {
     "data": {
      "text/plain": [
       "0.2375928828939561"
      ]
     },
     "execution_count": 143,
     "metadata": {},
     "output_type": "execute_result"
    }
   ],
   "source": [
    "#perfect model has log loss of 0\n",
    "#log loss will increase as the predicted probability diverges from the true classification\n",
    "#log loss seems pretty good\n",
    "log_loss(y_test, p_hat)"
   ]
  },
  {
   "cell_type": "code",
   "execution_count": 144,
   "metadata": {},
   "outputs": [
    {
     "data": {
      "text/plain": [
       "(0.7679222357229647, 0.8918590522478737)"
      ]
     },
     "execution_count": 144,
     "metadata": {},
     "output_type": "execute_result"
    }
   ],
   "source": [
    "#baseline model achieves 0.77 accuracy, so we have improved accuracy with the proposed model \n",
    "baseline = 1 - (y_test.sum() / y_test.size)\n",
    "accuracy = accuracy_score(y_test, y_hat)\n",
    "baseline, accuracy"
   ]
  },
  {
   "cell_type": "code",
   "execution_count": 145,
   "metadata": {},
   "outputs": [
    {
     "data": {
      "text/plain": [
       "0.81875"
      ]
     },
     "execution_count": 145,
     "metadata": {},
     "output_type": "execute_result"
    }
   ],
   "source": [
    "# TP / (TP + FP) # type 1 errors\n",
    "# % of true positives out of all positives (i.e. low interest rate)\n",
    "precision_score(y_test, y_hat)"
   ]
  },
  {
   "cell_type": "code",
   "execution_count": 146,
   "metadata": {},
   "outputs": [
    {
     "data": {
      "text/plain": [
       "0.6858638743455497"
      ]
     },
     "execution_count": 146,
     "metadata": {},
     "output_type": "execute_result"
    }
   ],
   "source": [
    "# TP / (TP + FN) # type 2 errors\n",
    "recall_score(y_test, y_hat)"
   ]
  },
  {
   "cell_type": "code",
   "execution_count": 147,
   "metadata": {},
   "outputs": [
    {
     "data": {
      "text/plain": [
       "0.9536665783020744"
      ]
     },
     "execution_count": 147,
     "metadata": {},
     "output_type": "execute_result"
    }
   ],
   "source": [
    "#model is able to discriminate low interest vs hight interest based on predictors\n",
    "auc = roc_auc_score(y_test, p_hat)\n",
    "auc"
   ]
  },
  {
   "cell_type": "code",
   "execution_count": null,
   "metadata": {},
   "outputs": [],
   "source": [
    "fpr, tpr, thr = roc_curve(y_test, p_hat)\n",
    "for th, fp, tp in zip(thr, fpr, tpr):\n",
    "    print(\"{0:.2f} {1:.2f} {2:.2f}\".format(th, fp, tp))"
   ]
  },
  {
   "cell_type": "code",
   "execution_count": 152,
   "metadata": {},
   "outputs": [
    {
     "data": {
      "image/png": "[encoded data removed]",
      "text/plain": [
       "<Figure size 432x288 with 1 Axes>"
      ]
     },
     "metadata": {},
     "output_type": "display_data"
    }
   ],
   "source": [
    "plt.plot(fpr, tpr, label=auc, color='#ff33cc', alpha=0.7)\n",
    "plt.plot(np.linspace(0,1), np.linspace(0,1), linestyle='--', alpha=0.5)\n",
    "plt.title('ROC Curve')\n",
    "plt.xlabel('FPR')\n",
    "plt.ylabel('TPR')\n",
    "plt.legend()\n",
    "plt.show()"
   ]
  },
  {
   "cell_type": "code",
   "execution_count": 163,
   "metadata": {},
   "outputs": [
    {
     "data": {
      "text/plain": [
       "(823,)"
      ]
     },
     "execution_count": 163,
     "metadata": {},
     "output_type": "execute_result"
    }
   ],
   "source": [
    "y_hat.shape"
   ]
  },
  {
   "cell_type": "code",
   "execution_count": 168,
   "metadata": {},
   "outputs": [
    {
     "data": {
      "text/plain": [
       "(1669,)"
      ]
     },
     "execution_count": 168,
     "metadata": {},
     "output_type": "execute_result"
    }
   ],
   "source": [
    "y_train.shape"
   ]
  },
  {
   "cell_type": "code",
   "execution_count": null,
   "metadata": {},
   "outputs": [],
   "source": [
    "cm=confusion_matrix(y, y_hat)"
   ]
  },
  {
   "cell_type": "code",
   "execution_count": null,
   "metadata": {},
   "outputs": [],
   "source": [
    "\n",
    "#cmdf = pd.DataFrame(cm, index=['Predict Low Interest','Predict High Interest'], columns=['Actual Dog', 'Actual Horse'])\n",
    "\n",
    "#plot confusion matrix:\n",
    "#plt.figure(figsize = (10,7))\n",
    "#sn.heatmap(cmdf, annot=True)\n",
    "#plt.show()"
   ]
  },
  {
   "cell_type": "code",
   "execution_count": null,
   "metadata": {},
   "outputs": [],
   "source": [
    "#FICO score, loan length, monthly income and loan amount seem to do a nice job of predicting a\n",
    "#low interest rate vs high interest rate"
   ]
  }
 ],
 "metadata": {
  "kernelspec": {
   "display_name": "Python 3",
   "language": "python",
   "name": "python3"
  },
  "language_info": {
   "codemirror_mode": {
    "name": "ipython",
    "version": 3
   },
   "file_extension": ".py",
   "mimetype": "text/x-python",
   "name": "python",
   "nbconvert_exporter": "python",
   "pygments_lexer": "ipython3",
   "version": "3.6.5"
  }
 },
 "nbformat": 4,
 "nbformat_minor": 2
}
